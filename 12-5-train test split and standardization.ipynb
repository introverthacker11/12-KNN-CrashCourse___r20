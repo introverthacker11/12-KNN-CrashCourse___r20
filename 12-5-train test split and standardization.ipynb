{
 "cells": [
  {
   "cell_type": "code",
   "execution_count": 1,
   "id": "413cd667",
   "metadata": {},
   "outputs": [],
   "source": [
    "import pandas as pd\n",
    "import numpy as np\n",
    "import matplotlib.pyplot as plt\n",
    "from sklearn import datasets"
   ]
  },
  {
   "cell_type": "code",
   "execution_count": 2,
   "id": "fafdf5a4",
   "metadata": {},
   "outputs": [],
   "source": [
    "from sklearn.model_selection import train_test_split"
   ]
  },
  {
   "cell_type": "code",
   "execution_count": 3,
   "id": "3714ef6b",
   "metadata": {},
   "outputs": [
    {
     "name": "stdout",
     "output_type": "stream",
     "text": [
      "Help on function train_test_split in module sklearn.model_selection._split:\n",
      "\n",
      "train_test_split(*arrays, test_size=None, train_size=None, random_state=None, shuffle=True, stratify=None)\n",
      "    Split arrays or matrices into random train and test subsets.\n",
      "    \n",
      "    Quick utility that wraps input validation,\n",
      "    ``next(ShuffleSplit().split(X, y))``, and application to input data\n",
      "    into a single call for splitting (and optionally subsampling) data into a\n",
      "    one-liner.\n",
      "    \n",
      "    Read more in the :ref:`User Guide <cross_validation>`.\n",
      "    \n",
      "    Parameters\n",
      "    ----------\n",
      "    *arrays : sequence of indexables with same length / shape[0]\n",
      "        Allowed inputs are lists, numpy arrays, scipy-sparse\n",
      "        matrices or pandas dataframes.\n",
      "    \n",
      "    test_size : float or int, default=None\n",
      "        If float, should be between 0.0 and 1.0 and represent the proportion\n",
      "        of the dataset to include in the test split. If int, represents the\n",
      "        absolute number of test samples. If None, the value is set to the\n",
      "        complement of the train size. If ``train_size`` is also None, it will\n",
      "        be set to 0.25.\n",
      "    \n",
      "    train_size : float or int, default=None\n",
      "        If float, should be between 0.0 and 1.0 and represent the\n",
      "        proportion of the dataset to include in the train split. If\n",
      "        int, represents the absolute number of train samples. If None,\n",
      "        the value is automatically set to the complement of the test size.\n",
      "    \n",
      "    random_state : int, RandomState instance or None, default=None\n",
      "        Controls the shuffling applied to the data before applying the split.\n",
      "        Pass an int for reproducible output across multiple function calls.\n",
      "        See :term:`Glossary <random_state>`.\n",
      "    \n",
      "    shuffle : bool, default=True\n",
      "        Whether or not to shuffle the data before splitting. If shuffle=False\n",
      "        then stratify must be None.\n",
      "    \n",
      "    stratify : array-like, default=None\n",
      "        If not None, data is split in a stratified fashion, using this as\n",
      "        the class labels.\n",
      "        Read more in the :ref:`User Guide <stratification>`.\n",
      "    \n",
      "    Returns\n",
      "    -------\n",
      "    splitting : list, length=2 * len(arrays)\n",
      "        List containing train-test split of inputs.\n",
      "    \n",
      "        .. versionadded:: 0.16\n",
      "            If the input is sparse, the output will be a\n",
      "            ``scipy.sparse.csr_matrix``. Else, output type is the same as the\n",
      "            input type.\n",
      "    \n",
      "    Examples\n",
      "    --------\n",
      "    >>> import numpy as np\n",
      "    >>> from sklearn.model_selection import train_test_split\n",
      "    >>> X, y = np.arange(10).reshape((5, 2)), range(5)\n",
      "    >>> X\n",
      "    array([[0, 1],\n",
      "           [2, 3],\n",
      "           [4, 5],\n",
      "           [6, 7],\n",
      "           [8, 9]])\n",
      "    >>> list(y)\n",
      "    [0, 1, 2, 3, 4]\n",
      "    \n",
      "    >>> X_train, X_test, y_train, y_test = train_test_split(\n",
      "    ...     X, y, test_size=0.33, random_state=42)\n",
      "    ...\n",
      "    >>> X_train\n",
      "    array([[4, 5],\n",
      "           [0, 1],\n",
      "           [6, 7]])\n",
      "    >>> y_train\n",
      "    [2, 0, 3]\n",
      "    >>> X_test\n",
      "    array([[2, 3],\n",
      "           [8, 9]])\n",
      "    >>> y_test\n",
      "    [1, 4]\n",
      "    \n",
      "    >>> train_test_split(y, shuffle=False)\n",
      "    [[0, 1, 2], [3, 4]]\n",
      "\n"
     ]
    }
   ],
   "source": [
    "help(train_test_split)"
   ]
  },
  {
   "cell_type": "code",
   "execution_count": 4,
   "id": "c70ee3c0",
   "metadata": {},
   "outputs": [],
   "source": [
    "wine = datasets.load_wine(as_frame = True)\n",
    "df = wine['frame']"
   ]
  },
  {
   "cell_type": "code",
   "execution_count": 18,
   "id": "e0d4a4b2",
   "metadata": {},
   "outputs": [],
   "source": [
    "df[wine.feature_names]\n",
    "x = wine.data\n",
    "y = wine.target"
   ]
  },
  {
   "cell_type": "code",
   "execution_count": 20,
   "id": "27dd96df",
   "metadata": {},
   "outputs": [
    {
     "data": {
      "text/plain": [
       "0      0\n",
       "1      0\n",
       "2      0\n",
       "3      0\n",
       "4      0\n",
       "      ..\n",
       "173    2\n",
       "174    2\n",
       "175    2\n",
       "176    2\n",
       "177    2\n",
       "Name: target, Length: 178, dtype: int32"
      ]
     },
     "execution_count": 20,
     "metadata": {},
     "output_type": "execute_result"
    }
   ],
   "source": [
    "y"
   ]
  },
  {
   "cell_type": "code",
   "execution_count": 10,
   "id": "95ff5ea0",
   "metadata": {},
   "outputs": [
    {
     "data": {
      "text/plain": [
       "0      0\n",
       "1      0\n",
       "2      0\n",
       "3      0\n",
       "4      0\n",
       "      ..\n",
       "173    2\n",
       "174    2\n",
       "175    2\n",
       "176    2\n",
       "177    2\n",
       "Name: target, Length: 178, dtype: int32"
      ]
     },
     "execution_count": 10,
     "metadata": {},
     "output_type": "execute_result"
    }
   ],
   "source": [
    "y"
   ]
  },
  {
   "cell_type": "code",
   "execution_count": 22,
   "id": "b107637a",
   "metadata": {},
   "outputs": [],
   "source": [
    "x_train,x_test, y_train, y_test = train_test_split(x, y, test_size = 0.2, random_state = 42)"
   ]
  },
  {
   "cell_type": "code",
   "execution_count": 23,
   "id": "9a2c9bf3",
   "metadata": {},
   "outputs": [
    {
     "data": {
      "text/plain": [
       "((142, 13), (142,), (36, 13), (36,))"
      ]
     },
     "execution_count": 23,
     "metadata": {},
     "output_type": "execute_result"
    }
   ],
   "source": [
    "x_train.shape, y_train.shape, x_test.shape, y_test.shape"
   ]
  },
  {
   "cell_type": "code",
   "execution_count": 24,
   "id": "ea4169ae",
   "metadata": {},
   "outputs": [],
   "source": [
    "from sklearn.preprocessing import StandardScaler"
   ]
  },
  {
   "cell_type": "code",
   "execution_count": 25,
   "id": "d6929b6e",
   "metadata": {},
   "outputs": [],
   "source": [
    "scaler = StandardScaler()\n",
    "x_train = scaler.fit_transform(x_train)\n",
    "x_test = scaler.transform(x_test)"
   ]
  },
  {
   "cell_type": "code",
   "execution_count": 26,
   "id": "cc7e1e99",
   "metadata": {},
   "outputs": [
    {
     "data": {
      "text/html": [
       "<div>\n",
       "<style scoped>\n",
       "    .dataframe tbody tr th:only-of-type {\n",
       "        vertical-align: middle;\n",
       "    }\n",
       "\n",
       "    .dataframe tbody tr th {\n",
       "        vertical-align: top;\n",
       "    }\n",
       "\n",
       "    .dataframe thead th {\n",
       "        text-align: right;\n",
       "    }\n",
       "</style>\n",
       "<table border=\"1\" class=\"dataframe\">\n",
       "  <thead>\n",
       "    <tr style=\"text-align: right;\">\n",
       "      <th></th>\n",
       "      <th>0</th>\n",
       "      <th>1</th>\n",
       "      <th>2</th>\n",
       "      <th>3</th>\n",
       "      <th>4</th>\n",
       "      <th>5</th>\n",
       "      <th>6</th>\n",
       "      <th>7</th>\n",
       "      <th>8</th>\n",
       "      <th>9</th>\n",
       "      <th>10</th>\n",
       "      <th>11</th>\n",
       "      <th>12</th>\n",
       "    </tr>\n",
       "  </thead>\n",
       "  <tbody>\n",
       "    <tr>\n",
       "      <th>count</th>\n",
       "      <td>1.420000e+02</td>\n",
       "      <td>1.420000e+02</td>\n",
       "      <td>1.420000e+02</td>\n",
       "      <td>1.420000e+02</td>\n",
       "      <td>1.420000e+02</td>\n",
       "      <td>1.420000e+02</td>\n",
       "      <td>1.420000e+02</td>\n",
       "      <td>1.420000e+02</td>\n",
       "      <td>1.420000e+02</td>\n",
       "      <td>1.420000e+02</td>\n",
       "      <td>1.420000e+02</td>\n",
       "      <td>1.420000e+02</td>\n",
       "      <td>1.420000e+02</td>\n",
       "    </tr>\n",
       "    <tr>\n",
       "      <th>mean</th>\n",
       "      <td>-3.440128e-16</td>\n",
       "      <td>1.938981e-16</td>\n",
       "      <td>-4.065605e-17</td>\n",
       "      <td>1.938981e-16</td>\n",
       "      <td>-3.940510e-16</td>\n",
       "      <td>1.657516e-16</td>\n",
       "      <td>1.024220e-16</td>\n",
       "      <td>3.002293e-16</td>\n",
       "      <td>-1.876433e-17</td>\n",
       "      <td>-7.505733e-17</td>\n",
       "      <td>2.971019e-16</td>\n",
       "      <td>2.064077e-16</td>\n",
       "      <td>-2.189172e-17</td>\n",
       "    </tr>\n",
       "    <tr>\n",
       "      <th>std</th>\n",
       "      <td>1.003540e+00</td>\n",
       "      <td>1.003540e+00</td>\n",
       "      <td>1.003540e+00</td>\n",
       "      <td>1.003540e+00</td>\n",
       "      <td>1.003540e+00</td>\n",
       "      <td>1.003540e+00</td>\n",
       "      <td>1.003540e+00</td>\n",
       "      <td>1.003540e+00</td>\n",
       "      <td>1.003540e+00</td>\n",
       "      <td>1.003540e+00</td>\n",
       "      <td>1.003540e+00</td>\n",
       "      <td>1.003540e+00</td>\n",
       "      <td>1.003540e+00</td>\n",
       "    </tr>\n",
       "    <tr>\n",
       "      <th>min</th>\n",
       "      <td>-2.385009e+00</td>\n",
       "      <td>-1.301450e+00</td>\n",
       "      <td>-3.597153e+00</td>\n",
       "      <td>-2.577477e+00</td>\n",
       "      <td>-2.085309e+00</td>\n",
       "      <td>-2.060039e+00</td>\n",
       "      <td>-1.661070e+00</td>\n",
       "      <td>-1.862271e+00</td>\n",
       "      <td>-2.042699e+00</td>\n",
       "      <td>-1.428343e+00</td>\n",
       "      <td>-2.042139e+00</td>\n",
       "      <td>-1.838284e+00</td>\n",
       "      <td>-1.516626e+00</td>\n",
       "    </tr>\n",
       "    <tr>\n",
       "      <th>25%</th>\n",
       "      <td>-7.911972e-01</td>\n",
       "      <td>-6.654285e-01</td>\n",
       "      <td>-5.421546e-01</td>\n",
       "      <td>-6.603251e-01</td>\n",
       "      <td>-8.352330e-01</td>\n",
       "      <td>-8.876709e-01</td>\n",
       "      <td>-8.765623e-01</td>\n",
       "      <td>-7.669469e-01</td>\n",
       "      <td>-6.155948e-01</td>\n",
       "      <td>-7.911522e-01</td>\n",
       "      <td>-7.453871e-01</td>\n",
       "      <td>-1.049644e+00</td>\n",
       "      <td>-7.714152e-01</td>\n",
       "    </tr>\n",
       "    <tr>\n",
       "      <th>50%</th>\n",
       "      <td>3.782994e-02</td>\n",
       "      <td>-4.373381e-01</td>\n",
       "      <td>-3.037281e-03</td>\n",
       "      <td>-7.936994e-02</td>\n",
       "      <td>-1.673843e-01</td>\n",
       "      <td>3.291364e-02</td>\n",
       "      <td>7.284159e-02</td>\n",
       "      <td>-2.192851e-01</td>\n",
       "      <td>-9.117680e-02</td>\n",
       "      <td>-1.970149e-01</td>\n",
       "      <td>3.695087e-02</td>\n",
       "      <td>2.531751e-01</td>\n",
       "      <td>-2.486061e-01</td>\n",
       "    </tr>\n",
       "    <tr>\n",
       "      <th>75%</th>\n",
       "      <td>8.546205e-01</td>\n",
       "      <td>6.680232e-01</td>\n",
       "      <td>6.439035e-01</td>\n",
       "      <td>5.887286e-01</td>\n",
       "      <td>4.490915e-01</td>\n",
       "      <td>8.040016e-01</td>\n",
       "      <td>8.398600e-01</td>\n",
       "      <td>7.978011e-01</td>\n",
       "      <td>6.180770e-01</td>\n",
       "      <td>4.584735e-01</td>\n",
       "      <td>7.014023e-01</td>\n",
       "      <td>8.020962e-01</td>\n",
       "      <td>6.567665e-01</td>\n",
       "    </tr>\n",
       "    <tr>\n",
       "      <th>max</th>\n",
       "      <td>2.264884e+00</td>\n",
       "      <td>3.005950e+00</td>\n",
       "      <td>3.123843e+00</td>\n",
       "      <td>3.057788e+00</td>\n",
       "      <td>4.216443e+00</td>\n",
       "      <td>2.503542e+00</td>\n",
       "      <td>3.075956e+00</td>\n",
       "      <td>2.284312e+00</td>\n",
       "      <td>3.390615e+00</td>\n",
       "      <td>3.419473e+00</td>\n",
       "      <td>3.230604e+00</td>\n",
       "      <td>1.955525e+00</td>\n",
       "      <td>2.695722e+00</td>\n",
       "    </tr>\n",
       "  </tbody>\n",
       "</table>\n",
       "</div>"
      ],
      "text/plain": [
       "                 0             1             2             3             4   \\\n",
       "count  1.420000e+02  1.420000e+02  1.420000e+02  1.420000e+02  1.420000e+02   \n",
       "mean  -3.440128e-16  1.938981e-16 -4.065605e-17  1.938981e-16 -3.940510e-16   \n",
       "std    1.003540e+00  1.003540e+00  1.003540e+00  1.003540e+00  1.003540e+00   \n",
       "min   -2.385009e+00 -1.301450e+00 -3.597153e+00 -2.577477e+00 -2.085309e+00   \n",
       "25%   -7.911972e-01 -6.654285e-01 -5.421546e-01 -6.603251e-01 -8.352330e-01   \n",
       "50%    3.782994e-02 -4.373381e-01 -3.037281e-03 -7.936994e-02 -1.673843e-01   \n",
       "75%    8.546205e-01  6.680232e-01  6.439035e-01  5.887286e-01  4.490915e-01   \n",
       "max    2.264884e+00  3.005950e+00  3.123843e+00  3.057788e+00  4.216443e+00   \n",
       "\n",
       "                 5             6             7             8             9   \\\n",
       "count  1.420000e+02  1.420000e+02  1.420000e+02  1.420000e+02  1.420000e+02   \n",
       "mean   1.657516e-16  1.024220e-16  3.002293e-16 -1.876433e-17 -7.505733e-17   \n",
       "std    1.003540e+00  1.003540e+00  1.003540e+00  1.003540e+00  1.003540e+00   \n",
       "min   -2.060039e+00 -1.661070e+00 -1.862271e+00 -2.042699e+00 -1.428343e+00   \n",
       "25%   -8.876709e-01 -8.765623e-01 -7.669469e-01 -6.155948e-01 -7.911522e-01   \n",
       "50%    3.291364e-02  7.284159e-02 -2.192851e-01 -9.117680e-02 -1.970149e-01   \n",
       "75%    8.040016e-01  8.398600e-01  7.978011e-01  6.180770e-01  4.584735e-01   \n",
       "max    2.503542e+00  3.075956e+00  2.284312e+00  3.390615e+00  3.419473e+00   \n",
       "\n",
       "                 10            11            12  \n",
       "count  1.420000e+02  1.420000e+02  1.420000e+02  \n",
       "mean   2.971019e-16  2.064077e-16 -2.189172e-17  \n",
       "std    1.003540e+00  1.003540e+00  1.003540e+00  \n",
       "min   -2.042139e+00 -1.838284e+00 -1.516626e+00  \n",
       "25%   -7.453871e-01 -1.049644e+00 -7.714152e-01  \n",
       "50%    3.695087e-02  2.531751e-01 -2.486061e-01  \n",
       "75%    7.014023e-01  8.020962e-01  6.567665e-01  \n",
       "max    3.230604e+00  1.955525e+00  2.695722e+00  "
      ]
     },
     "execution_count": 26,
     "metadata": {},
     "output_type": "execute_result"
    }
   ],
   "source": [
    "pd.DataFrame(x_train).describe()"
   ]
  },
  {
   "cell_type": "code",
   "execution_count": null,
   "id": "6d31ebf9",
   "metadata": {},
   "outputs": [],
   "source": []
  }
 ],
 "metadata": {
  "kernelspec": {
   "display_name": "Python 3 (ipykernel)",
   "language": "python",
   "name": "python3"
  },
  "language_info": {
   "codemirror_mode": {
    "name": "ipython",
    "version": 3
   },
   "file_extension": ".py",
   "mimetype": "text/x-python",
   "name": "python",
   "nbconvert_exporter": "python",
   "pygments_lexer": "ipython3",
   "version": "3.11.5"
  }
 },
 "nbformat": 4,
 "nbformat_minor": 5
}
